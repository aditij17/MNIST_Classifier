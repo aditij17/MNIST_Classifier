{
  "cells": [
    {
      "cell_type": "code",
      "execution_count": 3,
      "metadata": {
        "colab": {
          "base_uri": "https://localhost:8080/"
        },
        "id": "1eDZ5PAkKxkj",
        "outputId": "962c4b4c-f91d-4033-9401-495fdf6cd4d1"
      },
      "outputs": [
        {
          "name": "stdout",
          "output_type": "stream",
          "text": [
            "Accuracy: 0.1147\n"
          ]
        }
      ],
      "source": [
        "#Q.4 Most Frequent Baseline Classifier\n",
        "\n",
        "from urllib.request import urlopen\n",
        "import json, gzip\n",
        "import numpy as np\n",
        "from sklearn.metrics import accuracy_score\n",
        "\n",
        "data_source = \"https://www.csee.umbc.edu/courses/graduate/678/spring23/materials/mnist_rowmajor.jsonl.gz\"\n",
        "url_response = urlopen(data_source)\n",
        "\n",
        "with gzip.open(url_response, 'rb') as f:\n",
        "    data = [json.loads(line) for line in f]\n",
        "\n",
        "training_data = [d for d in data if d['split'] == 'train']\n",
        "train_data = training_data[:50000]\n",
        "dev_data = training_data[50000:]\n",
        "test_data = [d for d in data if d['split'] == 'test']\n",
        "\n",
        "x_train = [d['image'] for d in train_data]\n",
        "y_train = [d['label'] for d in train_data]\n",
        "\n",
        "x_dev = [d['image'] for d in dev_data]\n",
        "y_dev = [d['label'] for d in dev_data]\n",
        "\n",
        "most_freq_classifier = DummyClassifier(strategy='most_frequent')\n",
        "\n",
        "most_freq_classifier.fit(x_train, y_train)\n",
        "\n",
        "y_pred = most_freq_classifier.predict(x_dev)\n",
        "\n",
        "accuracy = accuracy_score(y_dev, y_pred)\n",
        "\n",
        "print(\"Accuracy:\", accuracy)\n"
      ]
    },
    {
      "cell_type": "code",
      "execution_count": 17,
      "metadata": {
        "colab": {
          "base_uri": "https://localhost:8080/",
          "height": 680
        },
        "id": "jiAOrAq7IDvY",
        "outputId": "75262f67-1491-44ce-ba5d-922586644aa8"
      },
      "outputs": [
        {
          "name": "stdout",
          "output_type": "stream",
          "text": [
            "No of Epochs: 40\n",
            "Learning 0.85\n",
            "Total no of Train Input Data Samples: 50000\n",
            "Train Input Data Features: 784\n",
            "Accuracy on dev set: 0.9014\n"
          ]
        },
        {
          "data": {
            "image/png": "[encoded data removed]",
            "text/plain": [
              "<Figure size 432x288 with 1 Axes>"
            ]
          },
          "metadata": {
            "needs_background": "light"
          },
          "output_type": "display_data"
        },
        {
          "name": "stdout",
          "output_type": "stream",
          "text": [
            "Precision on dev set: 0.9017829748511642\n"
          ]
        },
        {
          "data": {
            "image/png": "[encoded data removed]",
            "text/plain": [
              "<Figure size 432x288 with 1 Axes>"
            ]
          },
          "metadata": {
            "needs_background": "light"
          },
          "output_type": "display_data"
        }
      ],
      "source": [
        "# Q. 5 Multiclass Perceptron\n",
        "\n",
        "from urllib.request import urlopen\n",
        "import json, gzip\n",
        "import numpy as np\n",
        "from sklearn.metrics import accuracy_score, precision_score\n",
        "import matplotlib.pyplot as plt\n",
        "\n",
        "data_source = \"https://www.csee.umbc.edu/courses/graduate/678/spring23/materials/mnist_rowmajor.jsonl.gz\"\n",
        "url_response = urlopen(data_source)\n",
        "\n",
        "with gzip.open(url_response, 'rb') as f:\n",
        "    data = [json.loads(line) for line in f]\n",
        "\n",
        "training_data = [d for d in data if d['split'] == 'train']\n",
        "train_data = training_data[:50000]\n",
        "dev_data = training_data[50000:]\n",
        "test_data = [d for d in data if d['split'] == 'test']\n",
        "\n",
        "x_train = np.array([d['image'] for d in train_data])\n",
        "y_train = np.array([d['label'] for d in train_data])\n",
        "\n",
        "x_dev = np.array([d['image'] for d in dev_data])\n",
        "y_dev = np.array([d['label'] for d in dev_data])\n",
        "\n",
        "x_toy = [(-1,1), (-1, -1), (0.5, 0.5), (1, -1), (0.5, -1)]\n",
        "y_toy = [1, -1, 1, 1, -1]\n",
        "\n",
        "def train_perceptron_classifier(x_train, y_train, no_of_classes, no_of_epochs, learning_rate):\n",
        "    no_of_samples, no_of_features = x_train.shape\n",
        "    print(\"Total no of Train Input Data Samples:\", no_of_samples)\n",
        "    print(\"Train Input Data Features:\", no_of_features)\n",
        "\n",
        "    #Initializing Weight Matrix of size 10*784\n",
        "    weights = np.zeros((no_of_classes, no_of_features))\n",
        "    #Initializing Bias Matrix of size 1*10\n",
        "    bias = np.ones((no_of_classes, 1))\n",
        "    \n",
        "    for epoch in range(no_of_epochs):\n",
        "        for i in range(no_of_samples):\n",
        "            x_current = x_train[i]\n",
        "            y_current = y_train[i]\n",
        "            scores = np.dot(weights, x_current) + bias #scores will be a 1*10 matrix \n",
        "            y_pred = np.argmax(scores)  #The index of the maximum value from scores\n",
        "            if y_pred != y_current:\n",
        "                weights[y_current] += learning_rate * x_current \n",
        "                weights[y_pred] -= learning_rate * x_current \n",
        "                \n",
        "    return weights\n",
        "\n",
        "def classify(x_dev, weights):\n",
        "    scores = np.dot(x_dev, weights.T)\n",
        "    y_pred = np.argmax(scores, axis=1)\n",
        "    return y_pred\n",
        "\n",
        "no_of_classes = 10\n",
        "no_of_epochs = 40\n",
        "print(\"With Bias\")\n",
        "print(\"No of Epochs:\", no_of_epochs)\n",
        "learning_rate = 0.85\n",
        "print(\"Learning\", learning_rate)\n",
        "\n",
        "weights = train_perceptron_classifier(x_train, y_train, no_of_classes, no_of_epochs, learning_rate)\n",
        "\n",
        "y_pred = classify(x_dev, weights)\n",
        "\n",
        "accuracy = accuracy_score(y_dev, y_pred)\n",
        "print(\"Accuracy on dev set:\", accuracy)\n",
        "\n",
        "accuracies = []\n",
        "for i in range(1, no_of_epochs):\n",
        "    y_pred = classify(x_dev, weights)\n",
        "    accuracy = accuracy_score(y_dev, y_pred)\n",
        "    accuracies.append(accuracy_score(y_dev, y_pred))\n",
        "\n",
        "plt.plot(range(1, no_of_epochs), accuracies, label='Accuracy')\n",
        "plt.title(\"Accuracy vs. Number of iterations\")\n",
        "plt.xlabel(\"Number of iterations\")\n",
        "plt.ylabel(\"Accuracy\")\n",
        "plt.legend()\n",
        "plt.show()\n",
        "\n",
        "precision = precision_score(y_dev, y_pred, average='weighted')\n",
        "print(\"Precision on dev set:\", precision)\n",
        "\n",
        "precisions = []\n",
        "for i in range(1, no_of_epochs):\n",
        "    y_pred = classify(x_dev, weights)\n",
        "    precision = precision_score(y_dev, y_pred, average='weighted')\n",
        "    precisions.append(accuracy_score(y_dev, y_pred))\n",
        "\n",
        "plt.plot(range(1, no_of_epochs), precisions, label='Precision')\n",
        "plt.title(\"Precision vs. Number of iterations\")\n",
        "plt.xlabel(\"Number of iterations\")\n",
        "plt.ylabel(\"Precision\")\n",
        "plt.legend()\n",
        "plt.show()\n",
        "\n"
      ]
    },
    {
      "cell_type": "code",
      "execution_count": 19,
      "metadata": {
        "colab": {
          "base_uri": "https://localhost:8080/"
        },
        "id": "sS1yqGLxttCc",
        "outputId": "ab2efcca-bf69-4b64-c143-2e8052cdc431"
      },
      "outputs": [
        {
          "name": "stdout",
          "output_type": "stream",
          "text": [
            "With Bias\n",
            "No of Epochs: 40\n",
            "Learning 0.85\n",
            "Total no of Train Input Data Samples: 60000\n",
            "Train Input Data Features: 784\n",
            "Accuracy of Perceptron Model on Test Data: 0.8776\n",
            "Accuracy of Baseline Model on Test Data: 0.1135\n"
          ]
        }
      ],
      "source": [
        "#Q.6\n",
        "\n",
        "from urllib.request import urlopen\n",
        "import json, gzip\n",
        "import numpy as np\n",
        "from sklearn.dummy import DummyClassifier\n",
        "from sklearn.metrics import accuracy_score, precision_score\n",
        "import matplotlib.pyplot as plt\n",
        "\n",
        "data_source = \"https://www.csee.umbc.edu/courses/graduate/678/spring23/materials/mnist_rowmajor.jsonl.gz\"\n",
        "url_response = urlopen(data_source)\n",
        "\n",
        "with gzip.open(url_response, 'rb') as f:\n",
        "    data = [json.loads(line) for line in f]\n",
        "\n",
        "train_data = [d for d in data if d['split'] == 'train']\n",
        "test_data = [d for d in data if d['split'] == 'test']\n",
        "\n",
        "x_train = np.array([d['image'] for d in train_data])\n",
        "y_train = np.array([d['label'] for d in train_data])\n",
        "\n",
        "x_test = np.array([d['image'] for d in test_data])\n",
        "y_test = np.array([d['label'] for d in test_data])\n",
        "\n",
        "#Perceptron Model from Q.5\n",
        "def train_perceptron_classifier(x_train, y_train, no_of_classes, no_of_epochs, learning_rate):\n",
        "    no_of_samples, no_of_features = x_train.shape\n",
        "    print(\"Total no of Train Input Data Samples:\", no_of_samples)\n",
        "    print(\"Train Input Data Features:\", no_of_features)\n",
        "\n",
        "    #Initializing Weight Matrix of size 10*784\n",
        "    weights = np.zeros((no_of_classes, no_of_features))\n",
        "    #Initializing Bias Matrix of size 1*10\n",
        "    bias = np.ones((no_of_classes, 1))\n",
        "    \n",
        "    for epoch in range(no_of_epochs):\n",
        "        for i in range(no_of_samples):\n",
        "            x_current = x_train[i]\n",
        "            y_current = y_train[i]\n",
        "            #scores = np.dot(weights, x_current) + bias #scores will be a 1*10 matrix\n",
        "            scores = np.dot(weights, x_current) \n",
        "            y_pred = np.argmax(scores)  #The index of the maximum value from scores\n",
        "            if y_pred != y_current:\n",
        "                weights[y_current] += learning_rate * x_current \n",
        "                weights[y_pred] -= learning_rate * x_current \n",
        "                \n",
        "    return weights\n",
        "\n",
        "#Training the perceptron model on the entire, original train set\n",
        "no_of_classes = 10\n",
        "no_of_epochs = 40\n",
        "print(\"With Bias\")\n",
        "print(\"No of Epochs:\", no_of_epochs)\n",
        "learning_rate = 0.85\n",
        "print(\"Learning\", learning_rate)\n",
        "weights = train_perceptron_classifier(x_train, y_train, no_of_classes, no_of_epochs, learning_rate)\n",
        "\n",
        "#Evaluating the perceptron model on the original 10,000 image test set\n",
        "def classify(x_test, weights):\n",
        "    scores = np.dot(x_test, weights.T)\n",
        "    y_pred = np.argmax(scores, axis=1)\n",
        "    return y_pred\n",
        "\n",
        "y_pred_perceptron = classify(x_test, weights)\n",
        "\n",
        "accuracy_perceptron = accuracy_score(y_test, y_pred_perceptron)\n",
        "print(\"Accuracy of Perceptron Model on Test Data:\", accuracy_perceptron)\n",
        "\n",
        "#Most Frequent Baseline Model Q.4\n",
        "most_freq_classifier = DummyClassifier(strategy='most_frequent')\n",
        "#Training the baseline model on the entire, original train set\n",
        "most_freq_classifier.fit(x_train, y_train)\n",
        "#Evaluating baseline models on the original 10,000 image test set\n",
        "y_pred_baseline = most_freq_classifier.predict(x_test)\n",
        "\n",
        "accuracy_baseline = accuracy_score(y_test, y_pred_baseline)\n",
        "print(\"Accuracy of Baseline Model on Test Data:\", accuracy_baseline)"
      ]
    }
  ],
  "metadata": {
    "colab": {
      "provenance": []
    },
    "kernelspec": {
      "display_name": "Python 3.9.6 64-bit",
      "language": "python",
      "name": "python3"
    },
    "language_info": {
      "name": "python",
      "version": "3.9.6"
    },
    "vscode": {
      "interpreter": {
        "hash": "31f2aee4e71d21fbe5cf8b01ff0e069b9275f58929596ceb00d14d90e3e16cd6"
      }
    }
  },
  "nbformat": 4,
  "nbformat_minor": 0
}
